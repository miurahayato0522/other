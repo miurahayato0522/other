{
 "cells": [
  {
   "cell_type": "code",
   "execution_count": null,
   "metadata": {},
   "outputs": [],
   "source": [
    "import cv2\n",
    "\n",
    "# ピント測定関数\n",
    "def adjust_focus(frame):\n",
    "    # ラプラシアンフィルタ（エッジ検出）に基づくピントの測定\n",
    "    gray = cv2.cvtColor(frame, cv2.COLOR_BGR2GRAY)\n",
    "    focus_measure = cv2.Laplacian(gray, cv2.CV_64F).var()\n",
    "\n",
    "    # ある値より大きければTrueを返す(値は適宜調整)\n",
    "    return focus_measure > 100\n",
    "\n",
    "# カメラ起動（カメラが複数台存在する場合はカッコ内を1とかにする）\n",
    "video_capture = cv2.VideoCapture(0)\n",
    "\n",
    "# 保存画像の名前付けのための番号\n",
    "image_number = 0\n",
    "\n",
    "while True:\n",
    "    # フレームを1枚ずつ読み込む\n",
    "    ret, frame = video_capture.read()\n",
    "\n",
    "    # 上手くフレームが読み込めなければ終了\n",
    "    if not ret:\n",
    "        break\n",
    "\n",
    "    # 映像を表示する\n",
    "    cv2.imshow(\"Webcam\", frame)\n",
    "\n",
    "    # キー入力を待つ\n",
    "    key = cv2.waitKey(1) & 0xFF\n",
    "\n",
    "    if key == ord('s'):\n",
    "        # 's'キーが押されたら画像を保存\n",
    "        if adjust_focus(frame):\n",
    "            # ピントが合っている場合のみ画像を保存\n",
    "            image_number += 1\n",
    "            cv2.imwrite(f\"image_{image_number}.png\", frame)\n",
    "            print(f\"Image saved: image_{image_number}.png\")\n",
    "\n",
    "    elif key == ord('q'):\n",
    "        # 'q'キーが押されたら終了\n",
    "        break\n",
    "\n",
    "# デバイス、ウィンドウ閉じる\n",
    "video_capture.release()\n",
    "cv2.destroyAllWindows()\n"
   ]
  }
 ],
 "metadata": {
  "language_info": {
   "name": "python"
  }
 },
 "nbformat": 4,
 "nbformat_minor": 2
}
