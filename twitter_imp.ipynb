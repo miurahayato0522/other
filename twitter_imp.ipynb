{
 "cells": [
  {
   "cell_type": "markdown",
   "id": "2cc39ac9-4424-48d1-8f71-e1cbb84bda44",
   "metadata": {},
   "source": [
    "twitterのインプレッション増やし"
   ]
  },
  {
   "cell_type": "code",
   "execution_count": null,
   "id": "33ff421f-6459-4683-99c0-6a959aefd258",
   "metadata": {},
   "outputs": [],
   "source": [
    "from selenium import webdriver\n",
    "from selenium.webdriver.chrome.options import Options\n",
    "from selenium.webdriver.support.ui import WebDriverWait\n",
    "from selenium.webdriver.support import expected_conditions as EC\n",
    "from selenium.webdriver.common.by import By\n",
    "from selenium.webdriver.common.action_chains import ActionChains\n",
    "import time\n",
    "\n",
    "twitter_id = \"\"\n",
    "#どこまで読み込むか\n",
    "scroll = 4\n",
    "#待ち時間\n",
    "wait_time = 1.5\n",
    "\n",
    "def get_tweet(twitter_id):\n",
    "    url = 'https://twitter.com/' + twitter_id\n",
    "    #　ヘッドレスでやる\n",
    "    options = Options()\n",
    "    options.add_argument('--headless')\n",
    "    driver = webdriver.Chrome(\"C:\\chromdriver\\chromedriver.exe\", options=options)\n",
    "    driver.get(url)\n",
    " \n",
    "    # articleタグが読み込まれるまで待機\n",
    "    WebDriverWait(driver, 15).until(EC.visibility_of_element_located((By.TAG_NAME, 'article')))\n",
    "     \n",
    "    # 指定回数スクロール\n",
    "    for i in range(scroll):\n",
    "        # スクロール＝ページ移動\n",
    "        scroll_to_elem(driver)\n",
    "        time.sleep(wait_time)  \n",
    "    #停止\n",
    "    driver.quit()\n",
    "\n",
    "def scroll_to_elem(driver):\n",
    "     \n",
    "    # 最後の要素の一つ前までスクロール\n",
    "    elems_article = driver.find_elements(By.TAG_NAME,'article')\n",
    "    last_elem = elems_article[-2]\n",
    "    actions = ActionChains(driver);\n",
    "    actions.move_to_element(last_elem);\n",
    "    actions.perform();\n",
    "    \n",
    "for i in range(140):\n",
    "    if __name__ == '__main__':\n",
    "        tweet_list = get_tweet(twitter_id)\n",
    "        if i % 100 ==0:\n",
    "            print(\"インプレッション\"+str(i)+\"回追加完了\")"
   ]
  }
 ],
 "metadata": {
  "kernelspec": {
   "display_name": "Python 3 (ipykernel)",
   "language": "python",
   "name": "python3"
  },
  "language_info": {
   "codemirror_mode": {
    "name": "ipython",
    "version": 3
   },
   "file_extension": ".py",
   "mimetype": "text/x-python",
   "name": "python",
   "nbconvert_exporter": "python",
   "pygments_lexer": "ipython3",
   "version": "3.9.12"
  }
 },
 "nbformat": 4,
 "nbformat_minor": 5
}
