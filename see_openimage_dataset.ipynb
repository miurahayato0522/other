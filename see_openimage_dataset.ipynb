{
 "cells": [
  {
   "cell_type": "code",
   "execution_count": null,
   "metadata": {},
   "outputs": [],
   "source": [
    "!pip install fiftyone"
   ]
  },
  {
   "cell_type": "code",
   "execution_count": null,
   "metadata": {},
   "outputs": [],
   "source": [
    "import fiftyone.zoo as foz\n",
    "dataset = foz.load_zoo_dataset(\n",
    "              \"open-images-v7\",\n",
    "              split=\"validation\",\n",
    "              label_types=[\"detections\"],\n",
    "              classes=[\"Book\"],\n",
    "              max_samples=100,\n",
    "              only_matching=True,\n",
    "          )"
   ]
  },
  {
   "cell_type": "code",
   "execution_count": null,
   "metadata": {},
   "outputs": [],
   "source": [
    "import pandas as pd\n",
    "%matplotlib inline\n",
    "import matplotlib.pyplot as plt\n",
    "import cv2\n",
    "\n",
    "# アノテーションデータの読み込み\n",
    "detection = pd.read_csv(\"C:\\\\<path>\\\\fiftyone\\\\open-images-v6\\\\train\\\\labels\\\\detections.csv\")\n",
    "# クラスラベルの読み込み\n",
    "classes = pd.read_csv(\"C:\\\\<path>\\\\fiftyone\\\\open-images-v6\\\\train\\\\metadata\\\\classes.csv\")\n",
    "# ラベル名表示させたいのでdetectionにclassesを繋げとく(やや雑)\n",
    "detection_classes = detection.merge(classes, left_on = \"LabelName\", right_on = \"/m/011k07\", how = \"left\")\n",
    "# クラス名を文字型にしとく\n",
    "detection_classes[\"Tortoise\"] = detection_classes[\"Tortoise\"].astype(str)\n",
    "# 画像\"102ef529073e278c.jpg\"の読み込みとサイズ取得\n",
    "img = cv2.imread(\"C:\\\\<path>\\\\fiftyone\\\\open-images-v6\\\\train\\\\data\\\\102ef529073e278c.jpg\")\n",
    "y, x = img.shape[0:2]\n",
    "# 画像\"102ef529073e278c.jpg\"のアノテーション情報を取得\n",
    "annotation = detection_classes[detection_classes[\"ImageID\"] == \"102ef529073e278c\"]\n",
    "\n",
    "# BBoxを画像上に表示\n",
    "for idx, anno in annotations.iterrows():\n",
    "    coord1 = (int(round(x * anno.XMin)), int(round(y * anno.YMin)))\n",
    "    coord2 = (int(round(x * anno.XMax)), int(round(y * anno.YMax)))\n",
    "    cv2.rectangle(img, coord1, coord2, color=(0, 255, 0), thickness = 2)\n",
    "    cv2.putText(img, anno.Tortoise, (coord1[0], coord1[1]), cv2.FONT_HERSHEY_SIMPLEX, fontScale = 1.0, (0, 255, 0), thickness = 2)\n",
    "\n",
    "plt.imshow(cv2.cvtColor(img, cv2.COLOR_BGR2RGB))"
   ]
  },
  {
   "cell_type": "code",
   "execution_count": null,
   "metadata": {},
   "outputs": [],
   "source": [
    "# 本のBBoxだけ確認したい場合は以下を定義し、前セルをそれに合わせて修正し、実行\n",
    "book_annotetion = detection_classes[detection_classes[\"Tortoise\"] == \"Book\"]"
   ]
  },
  {
   "cell_type": "code",
   "execution_count": null,
   "metadata": {},
   "outputs": [],
   "source": []
  }
 ],
 "metadata": {
  "language_info": {
   "name": "python"
  }
 },
 "nbformat": 4,
 "nbformat_minor": 2
}
